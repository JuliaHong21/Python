{
 "cells": [
  {
   "cell_type": "markdown",
   "id": "0e4f5c35",
   "metadata": {},
   "source": [
    "## Scripting with raw input"
   ]
  },
  {
   "cell_type": "code",
   "execution_count": 1,
   "id": "073982b1",
   "metadata": {},
   "outputs": [
    {
     "name": "stdout",
     "output_type": "stream",
     "text": [
      "Enter names separated by commas: Julia Hong, Aurora Hong, James Kim\n",
      "Enter assignment counts separated by commas: 5,9,3\n",
      "Enter grades separated by commas: 75,88,65\n",
      "Hi Julia Hong,\n",
      "\n",
      "This is a reminder that you have 5 assignments left to submit before you can graduate. You're current grade is 75 and can increase to 85 if you submit all assignments before the due date.\n",
      "\n",
      "\n",
      "Hi  Aurora Hong,\n",
      "\n",
      "This is a reminder that you have 9 assignments left to submit before you can graduate. You're current grade is 88 and can increase to 106 if you submit all assignments before the due date.\n",
      "\n",
      "\n",
      "Hi  James Kim,\n",
      "\n",
      "This is a reminder that you have 3 assignments left to submit before you can graduate. You're current grade is 65 and can increase to 71 if you submit all assignments before the due date.\n",
      "\n",
      "\n"
     ]
    }
   ],
   "source": [
    "# Scripting with Raw Input\n",
    "# Quiz: Generating Messages\n",
    "\n",
    "names =  input(\"Enter names separated by commas: \").title().split(',')# get and process input for a list of names\n",
    "assignments = input(\"Enter assignment counts separated by commas: \").split(',') # get and process input for a list of the number of assignments\n",
    "grades =  input(\"Enter grades separated by commas: \").split(',')# get and process input for a list of grades\n",
    "\n",
    "# message string to be used for each student\n",
    "# HINT: use .format() with this string in your for loop\n",
    "message = \"Hi {},\\n\\nThis is a reminder that you have {} assignments left to \\\n",
    "submit before you can graduate. You're current grade is {} and can increase \\\n",
    "to {} if you submit all assignments before the due date.\\n\\n\"\n",
    "\n",
    "# write a for loop that iterates through each set of names, assignments, and grades to print each student's message\n",
    "for name, assignment, grade in zip(names, assignments, grades):\n",
    "    print(message.format(name, assignment, grade, int(grade)+int(assignment)*2))\n"
   ]
  },
  {
   "cell_type": "markdown",
   "id": "30a6e1ee",
   "metadata": {},
   "source": [
    "## Reading and Writing Files"
   ]
  },
  {
   "cell_type": "code",
   "execution_count": 5,
   "id": "cf354df2",
   "metadata": {},
   "outputs": [
    {
     "name": "stdout",
     "output_type": "stream",
     "text": [
      "Hello!!\n",
      " You've read the contexts of this file!\n"
     ]
    }
   ],
   "source": [
    "# practices: Reading a file\n",
    "\n",
    "f = open('C:/Users/julia/Documents/Data-Engineering-Nanodegree/Python-Udacity/test.txt', 'r')\n",
    "file_data = f.read()\n",
    "f.close()\n",
    "\n",
    "print(file_data)"
   ]
  },
  {
   "cell_type": "code",
   "execution_count": 7,
   "id": "b0084518",
   "metadata": {},
   "outputs": [
    {
     "name": "stdout",
     "output_type": "stream",
     "text": [
      "[\"We're the knights of the round table\", \"We dance whenever we're able\"]\n"
     ]
    }
   ],
   "source": [
    "# practies: Create a list of lines in the file\n",
    "\n",
    "camelot_lines = []\n",
    "\n",
    "with open(\"camelot.txt\") as f:\n",
    "    for line in f:\n",
    "        camelot_lines.append(line.strip()) #.strip() removes newlines\n",
    "print(camelot_lines)\n"
   ]
  },
  {
   "cell_type": "markdown",
   "id": "e5374ffa",
   "metadata": {},
   "source": [
    "#### Quiz: Flying Circus Cast List\n",
    "\n",
    "Write a function called create_cast_list that takes a filename as input and returns a list of actors' names. It will be run on the file flying_circus_cast.txt (this information was collected from imdb.com).\n",
    "Each line of that file consists of an actor's name, a comma, and then some (messy) information about roles they played in the programme. You'll need to extract only the name and add it to a list."
   ]
  },
  {
   "cell_type": "code",
   "execution_count": 4,
   "id": "d3c78ac2",
   "metadata": {},
   "outputs": [
    {
     "name": "stdout",
     "output_type": "stream",
     "text": [
      "Graham Chapman\n",
      "Eric Idle\n",
      "Terry Jones\n",
      "Michael Palin\n",
      "Terry Gilliam\n",
      "John Cleese\n",
      "Carol Cleveland\n",
      "Ian Davidson\n",
      "John Hughman\n",
      "The Fred Tomlinson Singers\n",
      "Connie Booth\n",
      "Bob Raymond\n",
      "Lyn Ashley\n",
      "Rita Davies\n",
      "Stanley Mason\n",
      "David Ballantyne\n",
      "Donna Reading\n",
      "Peter Brett\n",
      "Maureen Flanagan\n",
      "Katya Wyeth\n",
      "Frank Lester\n",
      "Neil Innes\n",
      "Dick Vosburgh\n",
      "Sandra Richards\n",
      "Julia Breck\n",
      "Nicki Howorth\n",
      "Jimmy Hill\n",
      "Barry Cryer\n",
      "Jeannette Wild\n",
      "Marjorie Wilde\n",
      "Marie Anderson\n",
      "Caron Gardner\n",
      "Nosher Powell\n",
      "Carolae Donoghue\n",
      "Vincent Wong\n",
      "Helena Clayton\n",
      "Nigel Jones\n",
      "Roy Gunson\n",
      "Daphne Davey\n",
      "Stenson Falke\n",
      "Alexander Curry\n",
      "Frank Williams\n",
      "Ralph Wood\n",
      "Rosalind Bailey\n",
      "Marion Mould\n",
      "Sheila Sands\n",
      "Richard Baker\n",
      "Douglas Adams\n",
      "Ewa Aulin\n",
      "Reginald Bosanquet\n",
      "Barbara Lindley\n",
      "Roy Brent\n",
      "Jonas Card\n",
      "Tony Christopher\n",
      "Beulah Hughes\n",
      "Peter Kodak\n",
      "Lulu\n",
      "Jay Neill\n",
      "Graham Skidmore\n",
      "Ringo Starr\n",
      "Fred Tomlinson\n",
      "David Hamilton\n",
      "Suzy Mandel\n",
      "Peter Woods\n"
     ]
    }
   ],
   "source": [
    "def create_cast_list(filename):\n",
    "    cast_list = []\n",
    "    # use with to open the file filename\n",
    "    # use the for loop syntax to process each line\n",
    "    # and add the actor name to cast_list\n",
    "    with open(filename) as f:\n",
    "        for line in f:\n",
    "            cast_list.append(line.split(\",\")[0])\n",
    "    return cast_list\n",
    "\n",
    "\n",
    "cast_list = create_cast_list('flying_circus_cast.txt')\n",
    "for actor in cast_list:\n",
    "    print(actor)"
   ]
  },
  {
   "cell_type": "markdown",
   "id": "8d47f5a7",
   "metadata": {},
   "source": [
    "#### Practices: Compute an Exponent\n",
    "\n",
    "It's your turn to import and use the math module. Use the math module to calculate e to the power of 3. print the answer.\n",
    "\n",
    "Refer to the math module's documentation(https://docs.python.org/3.6/library/math.html?highlight=math%20module#module-math) to find the function you need!"
   ]
  },
  {
   "cell_type": "code",
   "execution_count": 1,
   "id": "86dfc8bd",
   "metadata": {},
   "outputs": [
    {
     "name": "stdout",
     "output_type": "stream",
     "text": [
      "20.085536923187668\n"
     ]
    }
   ],
   "source": [
    "# print e to the power of 3 using the math module\n",
    "\n",
    "import math\n",
    "print(math.exp(3))\n",
    "\n"
   ]
  },
  {
   "cell_type": "markdown",
   "id": "80b85df9",
   "metadata": {},
   "source": [
    "#### Quiz: Password Generator\n",
    "\n",
    "Write a function called generate_password that selects three random words from the list of words word_list and concatenates them into a single string. Your function should not accept any arguments and should reference the global variable word_list to build the password."
   ]
  },
  {
   "cell_type": "code",
   "execution_count": 13,
   "id": "40b17192",
   "metadata": {},
   "outputs": [
    {
     "name": "stdout",
     "output_type": "stream",
     "text": [
      "sisterbankpeeped\n"
     ]
    }
   ],
   "source": [
    "# TODO: First import the `random` module\n",
    "import random\n",
    "\n",
    "# We begin with an empty `word_list`\n",
    "word_file = \"words.txt\"\n",
    "word_list = []\n",
    "\n",
    "# We fill up the word_list from the `words.txt` file\n",
    "with open(word_file,'r') as words:\n",
    "\tfor line in words:\n",
    "\t\t# remove white space and make everything lowercase\n",
    "\t\tword = line.strip().lower()\n",
    "\t\t# don't include words that are too long or too short\n",
    "\t\tif 3 < len(word) < 8:\n",
    "\t\t\tword_list.append(word)\n",
    "\n",
    "# TODO: Add your function generate_password below\n",
    "# It should return a string consisting of three random words \n",
    "# concatenated together without spaces\n",
    "def generate_password():\n",
    "    return random.choice(word_list) + random.choice(word_list) + random.choice(word_list)\n",
    "\n",
    "# [Alternative]-join method\n",
    "# def generate_password():\n",
    "#    return ''.join(random.sample(word_list,3))\n",
    "\n",
    "# Now we test the function\n",
    "print(generate_password())"
   ]
  },
  {
   "cell_type": "markdown",
   "id": "cb5f3005",
   "metadata": {},
   "source": [
    "#### Practice Question\n",
    "\n",
    "Create a function that opens the flowers.txt, reads every line in it, and saves it as a dictionary. The main (separate) function should take user input (user's first name and last name) and parse the user input to identify the first letter of the first name. It should then use it to print the flower name with the same first letter (from dictionary created in the first function).\n",
    "\n",
    "* sample output: \n",
    "    * Enter your First [space] Last name only: Bill Newman\n",
    "    * Unique flower name with the first letter: Bellflower\n"
   ]
  },
  {
   "cell_type": "code",
   "execution_count": 12,
   "id": "0b61170f",
   "metadata": {},
   "outputs": [
    {
     "name": "stdout",
     "output_type": "stream",
     "text": [
      "Enter your First [space] Last name only: Julia Hong\n",
      "Unique flower name with the first letter: Jamesia americana\n"
     ]
    }
   ],
   "source": [
    "# HINT: create a dictionary from flowers.txt\n",
    "\n",
    "def create_flowerdict(filename):\n",
    "    flower_dict = {}\n",
    "    with open(filename) as f:\n",
    "        for line in f:\n",
    "            letter = line.split(\": \")[0].lower()\n",
    "            flower = line.split(\": \")[1].strip()\n",
    "            flower_dict[letter] = flower\n",
    "        return flower_dict\n",
    "           \n",
    "# HINT: create a function to ask for user's first and last name\n",
    "def main():\n",
    "    flower_d = create_flowerdict('flowers.txt')\n",
    "    full_name = input(\"Enter your First [space] Last name only: \")\n",
    "    first_name = full_name[0].lower()\n",
    "    first_letter = first_name[0]\n",
    "\n",
    "# print the desired output\n",
    "    print(\"Unique flower name with the first letter: {}\".format(flower_d[first_letter]))\n",
    "\n",
    "main()"
   ]
  },
  {
   "cell_type": "code",
   "execution_count": null,
   "id": "b8a174e3",
   "metadata": {},
   "outputs": [],
   "source": []
  }
 ],
 "metadata": {
  "kernelspec": {
   "display_name": "Python 3 (ipykernel)",
   "language": "python",
   "name": "python3"
  },
  "language_info": {
   "codemirror_mode": {
    "name": "ipython",
    "version": 3
   },
   "file_extension": ".py",
   "mimetype": "text/x-python",
   "name": "python",
   "nbconvert_exporter": "python",
   "pygments_lexer": "ipython3",
   "version": "3.8.12"
  }
 },
 "nbformat": 4,
 "nbformat_minor": 5
}
